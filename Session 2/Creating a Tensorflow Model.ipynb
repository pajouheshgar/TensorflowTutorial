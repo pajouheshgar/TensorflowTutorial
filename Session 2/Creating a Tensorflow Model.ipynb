{
 "cells": [
  {
   "cell_type": "markdown",
   "metadata": {},
   "source": [
    "# Reviewing previous session"
   ]
  },
  {
   "cell_type": "code",
   "execution_count": null,
   "metadata": {},
   "outputs": [],
   "source": [
    "import tensorflow as tf"
   ]
  },
  {
   "cell_type": "code",
   "execution_count": 2,
   "metadata": {},
   "outputs": [],
   "source": [
    "from IPython.display import clear_output, Image, display, HTML\n",
    "import numpy as np\n",
    "\n",
    "def strip_consts(graph_def, max_const_size=32):\n",
    "    \"\"\"Strip large constant values from graph_def.\"\"\"\n",
    "    strip_def = tf.GraphDef()\n",
    "    for n0 in graph_def.node:\n",
    "        n = strip_def.node.add() \n",
    "        n.MergeFrom(n0)\n",
    "        if n.op == 'Const':\n",
    "            tensor = n.attr['value'].tensor\n",
    "            size = len(tensor.tensor_content)\n",
    "            if size > max_const_size:\n",
    "                tensor.tensor_content = tf.compat.as_bytes(\"<stripped %d bytes>\"%size)\n",
    "    return strip_def\n",
    "\n",
    "def show_graph(graph_def, max_const_size=32):\n",
    "    \"\"\"Visualize TensorFlow graph.\"\"\"\n",
    "    if hasattr(graph_def, 'as_graph_def'):\n",
    "        graph_def = graph_def.as_graph_def()\n",
    "    strip_def = strip_consts(graph_def, max_const_size=max_const_size)\n",
    "    code = \"\"\"\n",
    "        <script>\n",
    "          function load() {{\n",
    "            document.getElementById(\"{id}\").pbtxt = {data};\n",
    "          }}\n",
    "        </script>\n",
    "        <link rel=\"import\" href=\"https://tensorboard.appspot.com/tf-graph-basic.build.html\" onload=load()>\n",
    "        <div style=\"height:600px\">\n",
    "          <tf-graph-basic id=\"{id}\"></tf-graph-basic>\n",
    "        </div>\n",
    "    \"\"\".format(data=repr(str(strip_def)), id='graph'+str(np.random.rand()))\n",
    "  \n",
    "    iframe = \"\"\"\n",
    "        <iframe seamless style=\"width:800px;height:620px;border:0\" srcdoc=\"{}\"></iframe>\n",
    "    \"\"\".format(code.replace('\"', '&quot;'))\n",
    "    display(HTML(iframe))\n",
    "    "
   ]
  },
  {
   "cell_type": "code",
   "execution_count": 7,
   "metadata": {},
   "outputs": [
    {
     "name": "stdout",
     "output_type": "stream",
     "text": [
      "Shape of X (20640, 8)\n",
      "Shape of Y (20640, 1)\n"
     ]
    },
    {
     "data": {
      "text/html": [
       "\n",
       "        <iframe seamless style=\"width:800px;height:620px;border:0\" srcdoc=\"\n",
       "        <script>\n",
       "          function load() {\n",
       "            document.getElementById(&quot;graph0.39093962597726006&quot;).pbtxt = 'node {\\n  name: &quot;X&quot;\\n  op: &quot;Const&quot;\\n  attr {\\n    key: &quot;dtype&quot;\\n    value {\\n      type: DT_FLOAT\\n    }\\n  }\\n  attr {\\n    key: &quot;value&quot;\\n    value {\\n      tensor {\\n        dtype: DT_FLOAT\\n        tensor_shape {\\n          dim {\\n            size: 20640\\n          }\\n          dim {\\n            size: 8\\n          }\\n        }\\n        tensor_content: &quot;<stripped 660480 bytes>&quot;\\n      }\\n    }\\n  }\\n}\\nnode {\\n  name: &quot;Y&quot;\\n  op: &quot;Const&quot;\\n  attr {\\n    key: &quot;dtype&quot;\\n    value {\\n      type: DT_FLOAT\\n    }\\n  }\\n  attr {\\n    key: &quot;value&quot;\\n    value {\\n      tensor {\\n        dtype: DT_FLOAT\\n        tensor_shape {\\n          dim {\\n            size: 20640\\n          }\\n          dim {\\n            size: 1\\n          }\\n        }\\n        tensor_content: &quot;<stripped 82560 bytes>&quot;\\n      }\\n    }\\n  }\\n}\\nnode {\\n  name: &quot;W/shape&quot;\\n  op: &quot;Const&quot;\\n  attr {\\n    key: &quot;dtype&quot;\\n    value {\\n      type: DT_INT32\\n    }\\n  }\\n  attr {\\n    key: &quot;value&quot;\\n    value {\\n      tensor {\\n        dtype: DT_INT32\\n        tensor_shape {\\n          dim {\\n            size: 2\\n          }\\n        }\\n        tensor_content: &quot;\\\\010\\\\000\\\\000\\\\000\\\\001\\\\000\\\\000\\\\000&quot;\\n      }\\n    }\\n  }\\n}\\nnode {\\n  name: &quot;W/mean&quot;\\n  op: &quot;Const&quot;\\n  attr {\\n    key: &quot;dtype&quot;\\n    value {\\n      type: DT_FLOAT\\n    }\\n  }\\n  attr {\\n    key: &quot;value&quot;\\n    value {\\n      tensor {\\n        dtype: DT_FLOAT\\n        tensor_shape {\\n        }\\n        float_val: 0.0\\n      }\\n    }\\n  }\\n}\\nnode {\\n  name: &quot;W/stddev&quot;\\n  op: &quot;Const&quot;\\n  attr {\\n    key: &quot;dtype&quot;\\n    value {\\n      type: DT_FLOAT\\n    }\\n  }\\n  attr {\\n    key: &quot;value&quot;\\n    value {\\n      tensor {\\n        dtype: DT_FLOAT\\n        tensor_shape {\\n        }\\n        float_val: 0.009999999776482582\\n      }\\n    }\\n  }\\n}\\nnode {\\n  name: &quot;W/RandomStandardNormal&quot;\\n  op: &quot;RandomStandardNormal&quot;\\n  input: &quot;W/shape&quot;\\n  attr {\\n    key: &quot;T&quot;\\n    value {\\n      type: DT_INT32\\n    }\\n  }\\n  attr {\\n    key: &quot;dtype&quot;\\n    value {\\n      type: DT_FLOAT\\n    }\\n  }\\n  attr {\\n    key: &quot;seed&quot;\\n    value {\\n      i: 42\\n    }\\n  }\\n  attr {\\n    key: &quot;seed2&quot;\\n    value {\\n      i: 5\\n    }\\n  }\\n}\\nnode {\\n  name: &quot;W/mul&quot;\\n  op: &quot;Mul&quot;\\n  input: &quot;W/RandomStandardNormal&quot;\\n  input: &quot;W/stddev&quot;\\n  attr {\\n    key: &quot;T&quot;\\n    value {\\n      type: DT_FLOAT\\n    }\\n  }\\n}\\nnode {\\n  name: &quot;W&quot;\\n  op: &quot;Add&quot;\\n  input: &quot;W/mul&quot;\\n  input: &quot;W/mean&quot;\\n  attr {\\n    key: &quot;T&quot;\\n    value {\\n      type: DT_FLOAT\\n    }\\n  }\\n}\\nnode {\\n  name: &quot;Variable&quot;\\n  op: &quot;VariableV2&quot;\\n  attr {\\n    key: &quot;container&quot;\\n    value {\\n      s: &quot;&quot;\\n    }\\n  }\\n  attr {\\n    key: &quot;dtype&quot;\\n    value {\\n      type: DT_FLOAT\\n    }\\n  }\\n  attr {\\n    key: &quot;shape&quot;\\n    value {\\n      shape {\\n        dim {\\n          size: 8\\n        }\\n        dim {\\n          size: 1\\n        }\\n      }\\n    }\\n  }\\n  attr {\\n    key: &quot;shared_name&quot;\\n    value {\\n      s: &quot;&quot;\\n    }\\n  }\\n}\\nnode {\\n  name: &quot;Variable/Assign&quot;\\n  op: &quot;Assign&quot;\\n  input: &quot;Variable&quot;\\n  input: &quot;W&quot;\\n  attr {\\n    key: &quot;T&quot;\\n    value {\\n      type: DT_FLOAT\\n    }\\n  }\\n  attr {\\n    key: &quot;_class&quot;\\n    value {\\n      list {\\n        s: &quot;loc:@Variable&quot;\\n      }\\n    }\\n  }\\n  attr {\\n    key: &quot;use_locking&quot;\\n    value {\\n      b: true\\n    }\\n  }\\n  attr {\\n    key: &quot;validate_shape&quot;\\n    value {\\n      b: true\\n    }\\n  }\\n}\\nnode {\\n  name: &quot;Variable/read&quot;\\n  op: &quot;Identity&quot;\\n  input: &quot;Variable&quot;\\n  attr {\\n    key: &quot;T&quot;\\n    value {\\n      type: DT_FLOAT\\n    }\\n  }\\n  attr {\\n    key: &quot;_class&quot;\\n    value {\\n      list {\\n        s: &quot;loc:@Variable&quot;\\n      }\\n    }\\n  }\\n}\\nnode {\\n  name: &quot;Y_hat&quot;\\n  op: &quot;MatMul&quot;\\n  input: &quot;X&quot;\\n  input: &quot;Variable/read&quot;\\n  attr {\\n    key: &quot;T&quot;\\n    value {\\n      type: DT_FLOAT\\n    }\\n  }\\n  attr {\\n    key: &quot;transpose_a&quot;\\n    value {\\n      b: false\\n    }\\n  }\\n  attr {\\n    key: &quot;transpose_b&quot;\\n    value {\\n      b: false\\n    }\\n  }\\n}\\nnode {\\n  name: &quot;sub&quot;\\n  op: &quot;Sub&quot;\\n  input: &quot;Y_hat&quot;\\n  input: &quot;Y&quot;\\n  attr {\\n    key: &quot;T&quot;\\n    value {\\n      type: DT_FLOAT\\n    }\\n  }\\n}\\nnode {\\n  name: &quot;squared_errors&quot;\\n  op: &quot;Square&quot;\\n  input: &quot;sub&quot;\\n  attr {\\n    key: &quot;T&quot;\\n    value {\\n      type: DT_FLOAT\\n    }\\n  }\\n}\\nnode {\\n  name: &quot;mul/x&quot;\\n  op: &quot;Const&quot;\\n  attr {\\n    key: &quot;dtype&quot;\\n    value {\\n      type: DT_FLOAT\\n    }\\n  }\\n  attr {\\n    key: &quot;value&quot;\\n    value {\\n      tensor {\\n        dtype: DT_FLOAT\\n        tensor_shape {\\n        }\\n        float_val: 0.5\\n      }\\n    }\\n  }\\n}\\nnode {\\n  name: &quot;mul&quot;\\n  op: &quot;Mul&quot;\\n  input: &quot;mul/x&quot;\\n  input: &quot;squared_errors&quot;\\n  attr {\\n    key: &quot;T&quot;\\n    value {\\n      type: DT_FLOAT\\n    }\\n  }\\n}\\nnode {\\n  name: &quot;Const&quot;\\n  op: &quot;Const&quot;\\n  attr {\\n    key: &quot;dtype&quot;\\n    value {\\n      type: DT_INT32\\n    }\\n  }\\n  attr {\\n    key: &quot;value&quot;\\n    value {\\n      tensor {\\n        dtype: DT_INT32\\n        tensor_shape {\\n          dim {\\n            size: 2\\n          }\\n        }\\n        tensor_content: &quot;\\\\000\\\\000\\\\000\\\\000\\\\001\\\\000\\\\000\\\\000&quot;\\n      }\\n    }\\n  }\\n}\\nnode {\\n  name: &quot;MSE&quot;\\n  op: &quot;Mean&quot;\\n  input: &quot;mul&quot;\\n  input: &quot;Const&quot;\\n  attr {\\n    key: &quot;T&quot;\\n    value {\\n      type: DT_FLOAT\\n    }\\n  }\\n  attr {\\n    key: &quot;Tidx&quot;\\n    value {\\n      type: DT_INT32\\n    }\\n  }\\n  attr {\\n    key: &quot;keep_dims&quot;\\n    value {\\n      b: false\\n    }\\n  }\\n}\\nnode {\\n  name: &quot;gradients/Shape&quot;\\n  op: &quot;Const&quot;\\n  attr {\\n    key: &quot;dtype&quot;\\n    value {\\n      type: DT_INT32\\n    }\\n  }\\n  attr {\\n    key: &quot;value&quot;\\n    value {\\n      tensor {\\n        dtype: DT_INT32\\n        tensor_shape {\\n          dim {\\n          }\\n        }\\n      }\\n    }\\n  }\\n}\\nnode {\\n  name: &quot;gradients/grad_ys_0&quot;\\n  op: &quot;Const&quot;\\n  attr {\\n    key: &quot;dtype&quot;\\n    value {\\n      type: DT_FLOAT\\n    }\\n  }\\n  attr {\\n    key: &quot;value&quot;\\n    value {\\n      tensor {\\n        dtype: DT_FLOAT\\n        tensor_shape {\\n        }\\n        float_val: 1.0\\n      }\\n    }\\n  }\\n}\\nnode {\\n  name: &quot;gradients/Fill&quot;\\n  op: &quot;Fill&quot;\\n  input: &quot;gradients/Shape&quot;\\n  input: &quot;gradients/grad_ys_0&quot;\\n  attr {\\n    key: &quot;T&quot;\\n    value {\\n      type: DT_FLOAT\\n    }\\n  }\\n  attr {\\n    key: &quot;index_type&quot;\\n    value {\\n      type: DT_INT32\\n    }\\n  }\\n}\\nnode {\\n  name: &quot;gradients/MSE_grad/Reshape/shape&quot;\\n  op: &quot;Const&quot;\\n  attr {\\n    key: &quot;dtype&quot;\\n    value {\\n      type: DT_INT32\\n    }\\n  }\\n  attr {\\n    key: &quot;value&quot;\\n    value {\\n      tensor {\\n        dtype: DT_INT32\\n        tensor_shape {\\n          dim {\\n            size: 2\\n          }\\n        }\\n        tensor_content: &quot;\\\\001\\\\000\\\\000\\\\000\\\\001\\\\000\\\\000\\\\000&quot;\\n      }\\n    }\\n  }\\n}\\nnode {\\n  name: &quot;gradients/MSE_grad/Reshape&quot;\\n  op: &quot;Reshape&quot;\\n  input: &quot;gradients/Fill&quot;\\n  input: &quot;gradients/MSE_grad/Reshape/shape&quot;\\n  attr {\\n    key: &quot;T&quot;\\n    value {\\n      type: DT_FLOAT\\n    }\\n  }\\n  attr {\\n    key: &quot;Tshape&quot;\\n    value {\\n      type: DT_INT32\\n    }\\n  }\\n}\\nnode {\\n  name: &quot;gradients/MSE_grad/Const&quot;\\n  op: &quot;Const&quot;\\n  attr {\\n    key: &quot;dtype&quot;\\n    value {\\n      type: DT_INT32\\n    }\\n  }\\n  attr {\\n    key: &quot;value&quot;\\n    value {\\n      tensor {\\n        dtype: DT_INT32\\n        tensor_shape {\\n          dim {\\n            size: 2\\n          }\\n        }\\n        tensor_content: &quot;\\\\240P\\\\000\\\\000\\\\001\\\\000\\\\000\\\\000&quot;\\n      }\\n    }\\n  }\\n}\\nnode {\\n  name: &quot;gradients/MSE_grad/Tile&quot;\\n  op: &quot;Tile&quot;\\n  input: &quot;gradients/MSE_grad/Reshape&quot;\\n  input: &quot;gradients/MSE_grad/Const&quot;\\n  attr {\\n    key: &quot;T&quot;\\n    value {\\n      type: DT_FLOAT\\n    }\\n  }\\n  attr {\\n    key: &quot;Tmultiples&quot;\\n    value {\\n      type: DT_INT32\\n    }\\n  }\\n}\\nnode {\\n  name: &quot;gradients/MSE_grad/Const_1&quot;\\n  op: &quot;Const&quot;\\n  attr {\\n    key: &quot;dtype&quot;\\n    value {\\n      type: DT_FLOAT\\n    }\\n  }\\n  attr {\\n    key: &quot;value&quot;\\n    value {\\n      tensor {\\n        dtype: DT_FLOAT\\n        tensor_shape {\\n        }\\n        float_val: 20640.0\\n      }\\n    }\\n  }\\n}\\nnode {\\n  name: &quot;gradients/MSE_grad/truediv&quot;\\n  op: &quot;RealDiv&quot;\\n  input: &quot;gradients/MSE_grad/Tile&quot;\\n  input: &quot;gradients/MSE_grad/Const_1&quot;\\n  attr {\\n    key: &quot;T&quot;\\n    value {\\n      type: DT_FLOAT\\n    }\\n  }\\n}\\nnode {\\n  name: &quot;gradients/mul_grad/Shape&quot;\\n  op: &quot;Const&quot;\\n  attr {\\n    key: &quot;dtype&quot;\\n    value {\\n      type: DT_INT32\\n    }\\n  }\\n  attr {\\n    key: &quot;value&quot;\\n    value {\\n      tensor {\\n        dtype: DT_INT32\\n        tensor_shape {\\n          dim {\\n          }\\n        }\\n      }\\n    }\\n  }\\n}\\nnode {\\n  name: &quot;gradients/mul_grad/Shape_1&quot;\\n  op: &quot;Const&quot;\\n  attr {\\n    key: &quot;dtype&quot;\\n    value {\\n      type: DT_INT32\\n    }\\n  }\\n  attr {\\n    key: &quot;value&quot;\\n    value {\\n      tensor {\\n        dtype: DT_INT32\\n        tensor_shape {\\n          dim {\\n            size: 2\\n          }\\n        }\\n        tensor_content: &quot;\\\\240P\\\\000\\\\000\\\\001\\\\000\\\\000\\\\000&quot;\\n      }\\n    }\\n  }\\n}\\nnode {\\n  name: &quot;gradients/mul_grad/BroadcastGradientArgs&quot;\\n  op: &quot;BroadcastGradientArgs&quot;\\n  input: &quot;gradients/mul_grad/Shape&quot;\\n  input: &quot;gradients/mul_grad/Shape_1&quot;\\n  attr {\\n    key: &quot;T&quot;\\n    value {\\n      type: DT_INT32\\n    }\\n  }\\n}\\nnode {\\n  name: &quot;gradients/mul_grad/Mul&quot;\\n  op: &quot;Mul&quot;\\n  input: &quot;gradients/MSE_grad/truediv&quot;\\n  input: &quot;squared_errors&quot;\\n  attr {\\n    key: &quot;T&quot;\\n    value {\\n      type: DT_FLOAT\\n    }\\n  }\\n}\\nnode {\\n  name: &quot;gradients/mul_grad/Sum&quot;\\n  op: &quot;Sum&quot;\\n  input: &quot;gradients/mul_grad/Mul&quot;\\n  input: &quot;gradients/mul_grad/BroadcastGradientArgs&quot;\\n  attr {\\n    key: &quot;T&quot;\\n    value {\\n      type: DT_FLOAT\\n    }\\n  }\\n  attr {\\n    key: &quot;Tidx&quot;\\n    value {\\n      type: DT_INT32\\n    }\\n  }\\n  attr {\\n    key: &quot;keep_dims&quot;\\n    value {\\n      b: false\\n    }\\n  }\\n}\\nnode {\\n  name: &quot;gradients/mul_grad/Reshape&quot;\\n  op: &quot;Reshape&quot;\\n  input: &quot;gradients/mul_grad/Sum&quot;\\n  input: &quot;gradients/mul_grad/Shape&quot;\\n  attr {\\n    key: &quot;T&quot;\\n    value {\\n      type: DT_FLOAT\\n    }\\n  }\\n  attr {\\n    key: &quot;Tshape&quot;\\n    value {\\n      type: DT_INT32\\n    }\\n  }\\n}\\nnode {\\n  name: &quot;gradients/mul_grad/Mul_1&quot;\\n  op: &quot;Mul&quot;\\n  input: &quot;mul/x&quot;\\n  input: &quot;gradients/MSE_grad/truediv&quot;\\n  attr {\\n    key: &quot;T&quot;\\n    value {\\n      type: DT_FLOAT\\n    }\\n  }\\n}\\nnode {\\n  name: &quot;gradients/mul_grad/Sum_1&quot;\\n  op: &quot;Sum&quot;\\n  input: &quot;gradients/mul_grad/Mul_1&quot;\\n  input: &quot;gradients/mul_grad/BroadcastGradientArgs:1&quot;\\n  attr {\\n    key: &quot;T&quot;\\n    value {\\n      type: DT_FLOAT\\n    }\\n  }\\n  attr {\\n    key: &quot;Tidx&quot;\\n    value {\\n      type: DT_INT32\\n    }\\n  }\\n  attr {\\n    key: &quot;keep_dims&quot;\\n    value {\\n      b: false\\n    }\\n  }\\n}\\nnode {\\n  name: &quot;gradients/mul_grad/Reshape_1&quot;\\n  op: &quot;Reshape&quot;\\n  input: &quot;gradients/mul_grad/Sum_1&quot;\\n  input: &quot;gradients/mul_grad/Shape_1&quot;\\n  attr {\\n    key: &quot;T&quot;\\n    value {\\n      type: DT_FLOAT\\n    }\\n  }\\n  attr {\\n    key: &quot;Tshape&quot;\\n    value {\\n      type: DT_INT32\\n    }\\n  }\\n}\\nnode {\\n  name: &quot;gradients/mul_grad/tuple/group_deps&quot;\\n  op: &quot;NoOp&quot;\\n  input: &quot;^gradients/mul_grad/Reshape&quot;\\n  input: &quot;^gradients/mul_grad/Reshape_1&quot;\\n}\\nnode {\\n  name: &quot;gradients/mul_grad/tuple/control_dependency&quot;\\n  op: &quot;Identity&quot;\\n  input: &quot;gradients/mul_grad/Reshape&quot;\\n  input: &quot;^gradients/mul_grad/tuple/group_deps&quot;\\n  attr {\\n    key: &quot;T&quot;\\n    value {\\n      type: DT_FLOAT\\n    }\\n  }\\n  attr {\\n    key: &quot;_class&quot;\\n    value {\\n      list {\\n        s: &quot;loc:@gradients/mul_grad/Reshape&quot;\\n      }\\n    }\\n  }\\n}\\nnode {\\n  name: &quot;gradients/mul_grad/tuple/control_dependency_1&quot;\\n  op: &quot;Identity&quot;\\n  input: &quot;gradients/mul_grad/Reshape_1&quot;\\n  input: &quot;^gradients/mul_grad/tuple/group_deps&quot;\\n  attr {\\n    key: &quot;T&quot;\\n    value {\\n      type: DT_FLOAT\\n    }\\n  }\\n  attr {\\n    key: &quot;_class&quot;\\n    value {\\n      list {\\n        s: &quot;loc:@gradients/mul_grad/Reshape_1&quot;\\n      }\\n    }\\n  }\\n}\\nnode {\\n  name: &quot;gradients/squared_errors_grad/Const&quot;\\n  op: &quot;Const&quot;\\n  input: &quot;^gradients/mul_grad/tuple/control_dependency_1&quot;\\n  attr {\\n    key: &quot;dtype&quot;\\n    value {\\n      type: DT_FLOAT\\n    }\\n  }\\n  attr {\\n    key: &quot;value&quot;\\n    value {\\n      tensor {\\n        dtype: DT_FLOAT\\n        tensor_shape {\\n        }\\n        float_val: 2.0\\n      }\\n    }\\n  }\\n}\\nnode {\\n  name: &quot;gradients/squared_errors_grad/Mul&quot;\\n  op: &quot;Mul&quot;\\n  input: &quot;sub&quot;\\n  input: &quot;gradients/squared_errors_grad/Const&quot;\\n  attr {\\n    key: &quot;T&quot;\\n    value {\\n      type: DT_FLOAT\\n    }\\n  }\\n}\\nnode {\\n  name: &quot;gradients/squared_errors_grad/Mul_1&quot;\\n  op: &quot;Mul&quot;\\n  input: &quot;gradients/mul_grad/tuple/control_dependency_1&quot;\\n  input: &quot;gradients/squared_errors_grad/Mul&quot;\\n  attr {\\n    key: &quot;T&quot;\\n    value {\\n      type: DT_FLOAT\\n    }\\n  }\\n}\\nnode {\\n  name: &quot;gradients/sub_grad/Neg&quot;\\n  op: &quot;Neg&quot;\\n  input: &quot;gradients/squared_errors_grad/Mul_1&quot;\\n  attr {\\n    key: &quot;T&quot;\\n    value {\\n      type: DT_FLOAT\\n    }\\n  }\\n}\\nnode {\\n  name: &quot;gradients/sub_grad/tuple/group_deps&quot;\\n  op: &quot;NoOp&quot;\\n  input: &quot;^gradients/squared_errors_grad/Mul_1&quot;\\n  input: &quot;^gradients/sub_grad/Neg&quot;\\n}\\nnode {\\n  name: &quot;gradients/sub_grad/tuple/control_dependency&quot;\\n  op: &quot;Identity&quot;\\n  input: &quot;gradients/squared_errors_grad/Mul_1&quot;\\n  input: &quot;^gradients/sub_grad/tuple/group_deps&quot;\\n  attr {\\n    key: &quot;T&quot;\\n    value {\\n      type: DT_FLOAT\\n    }\\n  }\\n  attr {\\n    key: &quot;_class&quot;\\n    value {\\n      list {\\n        s: &quot;loc:@gradients/squared_errors_grad/Mul_1&quot;\\n      }\\n    }\\n  }\\n}\\nnode {\\n  name: &quot;gradients/sub_grad/tuple/control_dependency_1&quot;\\n  op: &quot;Identity&quot;\\n  input: &quot;gradients/sub_grad/Neg&quot;\\n  input: &quot;^gradients/sub_grad/tuple/group_deps&quot;\\n  attr {\\n    key: &quot;T&quot;\\n    value {\\n      type: DT_FLOAT\\n    }\\n  }\\n  attr {\\n    key: &quot;_class&quot;\\n    value {\\n      list {\\n        s: &quot;loc:@gradients/sub_grad/Neg&quot;\\n      }\\n    }\\n  }\\n}\\nnode {\\n  name: &quot;gradients/Y_hat_grad/MatMul&quot;\\n  op: &quot;MatMul&quot;\\n  input: &quot;gradients/sub_grad/tuple/control_dependency&quot;\\n  input: &quot;Variable/read&quot;\\n  attr {\\n    key: &quot;T&quot;\\n    value {\\n      type: DT_FLOAT\\n    }\\n  }\\n  attr {\\n    key: &quot;transpose_a&quot;\\n    value {\\n      b: false\\n    }\\n  }\\n  attr {\\n    key: &quot;transpose_b&quot;\\n    value {\\n      b: true\\n    }\\n  }\\n}\\nnode {\\n  name: &quot;gradients/Y_hat_grad/MatMul_1&quot;\\n  op: &quot;MatMul&quot;\\n  input: &quot;X&quot;\\n  input: &quot;gradients/sub_grad/tuple/control_dependency&quot;\\n  attr {\\n    key: &quot;T&quot;\\n    value {\\n      type: DT_FLOAT\\n    }\\n  }\\n  attr {\\n    key: &quot;transpose_a&quot;\\n    value {\\n      b: true\\n    }\\n  }\\n  attr {\\n    key: &quot;transpose_b&quot;\\n    value {\\n      b: false\\n    }\\n  }\\n}\\nnode {\\n  name: &quot;gradients/Y_hat_grad/tuple/group_deps&quot;\\n  op: &quot;NoOp&quot;\\n  input: &quot;^gradients/Y_hat_grad/MatMul&quot;\\n  input: &quot;^gradients/Y_hat_grad/MatMul_1&quot;\\n}\\nnode {\\n  name: &quot;gradients/Y_hat_grad/tuple/control_dependency&quot;\\n  op: &quot;Identity&quot;\\n  input: &quot;gradients/Y_hat_grad/MatMul&quot;\\n  input: &quot;^gradients/Y_hat_grad/tuple/group_deps&quot;\\n  attr {\\n    key: &quot;T&quot;\\n    value {\\n      type: DT_FLOAT\\n    }\\n  }\\n  attr {\\n    key: &quot;_class&quot;\\n    value {\\n      list {\\n        s: &quot;loc:@gradients/Y_hat_grad/MatMul&quot;\\n      }\\n    }\\n  }\\n}\\nnode {\\n  name: &quot;gradients/Y_hat_grad/tuple/control_dependency_1&quot;\\n  op: &quot;Identity&quot;\\n  input: &quot;gradients/Y_hat_grad/MatMul_1&quot;\\n  input: &quot;^gradients/Y_hat_grad/tuple/group_deps&quot;\\n  attr {\\n    key: &quot;T&quot;\\n    value {\\n      type: DT_FLOAT\\n    }\\n  }\\n  attr {\\n    key: &quot;_class&quot;\\n    value {\\n      list {\\n        s: &quot;loc:@gradients/Y_hat_grad/MatMul_1&quot;\\n      }\\n    }\\n  }\\n}\\nnode {\\n  name: &quot;optimizer/learning_rate&quot;\\n  op: &quot;Const&quot;\\n  attr {\\n    key: &quot;dtype&quot;\\n    value {\\n      type: DT_FLOAT\\n    }\\n  }\\n  attr {\\n    key: &quot;value&quot;\\n    value {\\n      tensor {\\n        dtype: DT_FLOAT\\n        tensor_shape {\\n        }\\n        float_val: 4.999999987376214e-07\\n      }\\n    }\\n  }\\n}\\nnode {\\n  name: &quot;optimizer/update_Variable/ApplyGradientDescent&quot;\\n  op: &quot;ApplyGradientDescent&quot;\\n  input: &quot;Variable&quot;\\n  input: &quot;optimizer/learning_rate&quot;\\n  input: &quot;gradients/Y_hat_grad/tuple/control_dependency_1&quot;\\n  attr {\\n    key: &quot;T&quot;\\n    value {\\n      type: DT_FLOAT\\n    }\\n  }\\n  attr {\\n    key: &quot;_class&quot;\\n    value {\\n      list {\\n        s: &quot;loc:@Variable&quot;\\n      }\\n    }\\n  }\\n  attr {\\n    key: &quot;use_locking&quot;\\n    value {\\n      b: false\\n    }\\n  }\\n}\\nnode {\\n  name: &quot;optimizer&quot;\\n  op: &quot;NoOp&quot;\\n  input: &quot;^optimizer/update_Variable/ApplyGradientDescent&quot;\\n}\\nnode {\\n  name: &quot;init&quot;\\n  op: &quot;NoOp&quot;\\n  input: &quot;^Variable/Assign&quot;\\n}\\n';\n",
       "          }\n",
       "        </script>\n",
       "        <link rel=&quot;import&quot; href=&quot;https://tensorboard.appspot.com/tf-graph-basic.build.html&quot; onload=load()>\n",
       "        <div style=&quot;height:600px&quot;>\n",
       "          <tf-graph-basic id=&quot;graph0.39093962597726006&quot;></tf-graph-basic>\n",
       "        </div>\n",
       "    \"></iframe>\n",
       "    "
      ],
      "text/plain": [
       "<IPython.core.display.HTML object>"
      ]
     },
     "metadata": {},
     "output_type": "display_data"
    }
   ],
   "source": [
    "from sklearn.datasets import fetch_california_housing\n",
    "housing = fetch_california_housing()\n",
    "m, n = housing.data.shape\n",
    "X_data = housing.data\n",
    "Y_data = np.reshape(housing.target, [-1, 1])\n",
    "print(\"Shape of X\", X_data.shape)\n",
    "print(\"Shape of Y\", Y_data.shape)\n",
    "\n",
    "##################################################################\n",
    "\n",
    "tf.reset_default_graph()\n",
    "tf.set_random_seed(42)\n",
    "learning_rate = 0.0000005\n",
    "epochs = 5000\n",
    "n_data = len(X_data)\n",
    "X = tf.constant(X_data, dtype=tf.float32, name='X')\n",
    "Y = tf.constant(Y_data, dtype=tf.float32, name='Y')\n",
    "W = tf.Variable(tf.random.normal(shape=[8, 1], mean=0.0, stddev=0.01, name=\"W\"))\n",
    "Y_hat = tf.matmul(X, W, name=\"Y_hat\")\n",
    "errors = Y_hat - Y\n",
    "squared_errors = 0.5 * tf.square(errors, name='squared_errors')\n",
    "MSE = tf.reduce_mean(squared_errors, name='MSE')\n",
    "optimizer = tf.train.GradientDescentOptimizer(learning_rate, name=\"optimizer\")\n",
    "update_W = optimizer.minimize(MSE)\n",
    "init_operation = tf.global_variables_initializer()\n",
    "show_graph(tf.get_default_graph())\n",
    "# with tf.Session() as ses:\n",
    "#     ses.run(init_operation)\n",
    "#     for i in range(epochs):\n",
    "#         _, mse = ses.run([update_W, MSE])\n",
    "#         if i % 1000 == 0:\n",
    "#             print(\"Epoch= \", i, \"Mse = \", mse, end=\"\\n\")\n",
    "    \n",
    "#     print()\n",
    "        \n",
    "#     print(ses.run(W))\n"
   ]
  },
  {
   "cell_type": "code",
   "execution_count": null,
   "metadata": {
    "scrolled": true
   },
   "outputs": [],
   "source": [
    "show_graph(tf.get_default_graph())"
   ]
  },
  {
   "cell_type": "markdown",
   "metadata": {},
   "source": [
    "# Tensorflow Model Template"
   ]
  },
  {
   "cell_type": "code",
   "execution_count": null,
   "metadata": {},
   "outputs": [],
   "source": [
    "class DataLoader():\n",
    "    def __init__(self):\n",
    "        pass\n",
    "    \n",
    "    def get_train_batch():\n",
    "        pass\n",
    "    \n",
    "    def get_val_batch():\n",
    "        pass\n",
    "    \n",
    "    \n",
    "class Model():\n",
    "    def __init__(self):\n",
    "        pass\n",
    "    \n",
    "    def create_graph(self):\n",
    "        pass\n",
    "    \n",
    "    def train(self):\n",
    "        pass\n",
    "    \n",
    "    def save(self):\n",
    "        pass\n",
    "    \n",
    "    def load(self):\n",
    "        pass\n",
    "            "
   ]
  },
  {
   "cell_type": "markdown",
   "metadata": {},
   "source": [
    "## Writing the DataLoader Class"
   ]
  },
  {
   "cell_type": "code",
   "execution_count": 6,
   "metadata": {},
   "outputs": [
    {
     "name": "stdout",
     "output_type": "stream",
     "text": [
      "(5, 8) (5, 1)\n"
     ]
    }
   ],
   "source": [
    "class DataLoader():\n",
    "    def __init__(self, batch_size=32):\n",
    "        self.b = batch_size\n",
    "        housing_data = fetch_california_housing()\n",
    "        self.X = housing.data\n",
    "        self.Y = np.reshape(housing.target, [-1, 1])\n",
    "        self.Y = np.log(self.Y)\n",
    "        self.X = self.X / np.std(self.X, axis=0)\n",
    "        self.n = len(self.X)\n",
    "        self.X_train, self.Y_train = self.X[: self.n // 2], self.Y[: self.n // 2]\n",
    "        self.X_val, self.Y_val = self.X[self.n // 2:], self.Y[self.n // 2:]\n",
    "        self.n_train, self.n_val = len(self.X_train), len(self.X_val)\n",
    "        self.tp, self.vp = 0, 0\n",
    "        \n",
    "    \n",
    "    def get_train_batch(self):\n",
    "        if self.tp >= self.n_train:\n",
    "            self.tp = 0\n",
    "        xb, yb = self.X_train[self.tp: self.tp + self.b], self.Y_train[self.tp: self.tp + self.b]\n",
    "        self.tp += self.b\n",
    "        return xb, yb\n",
    "    \n",
    "    def get_val_batch(self):\n",
    "        if self.vp >= self.n_train:\n",
    "            self.vp = 0\n",
    "        xb, yb = self.X_val[self.vp: self.vp + self.b], self.Y_val[self.vp: self.vp + self.b]\n",
    "        self.vp += self.b\n",
    "        return xb, yb\n",
    "    \n",
    "dataloader = DataLoader(batch_size=5)\n",
    "\n",
    "x, y = dataloader.get_train_batch()\n",
    "print(x.shape, y.shape)    "
   ]
  },
  {
   "cell_type": "markdown",
   "metadata": {},
   "source": [
    "## Writing the Model Class"
   ]
  },
  {
   "cell_type": "markdown",
   "metadata": {},
   "source": [
    "### Initializing"
   ]
  },
  {
   "cell_type": "code",
   "execution_count": null,
   "metadata": {},
   "outputs": [],
   "source": [
    "import os\n",
    "import datetime\n",
    "\n",
    "class Model():\n",
    "    def __init__(self, name='Model', dataloader=None):\n",
    "        self.name = name\n",
    "        self.dataloader = dataloader\n",
    "        \n",
    "        self.save_path = os.path.join(\"SavedModels/\", self.name)\n",
    "        try:\n",
    "            os.mkdir(self.save_path)\n",
    "        except:\n",
    "            pass\n",
    "        \n",
    "        init_time = datetime.datetime.utcnow().strftime(\"%Y%m%d%H%M%S\")\n",
    "        self.log_path = os.path.join(\"log/\" + self.name + \"-run-\" + init_time)\n",
    "        \n",
    "        self.create_graph()\n",
    "        self.ses = tf.Session()\n",
    "        \n",
    "    \n",
    "    def create_graph(self):\n",
    "        pass\n",
    "    \n",
    "    def train(self):\n",
    "        pass\n",
    "    \n",
    "    def save(self):\n",
    "        pass\n",
    "    \n",
    "    def load(self):\n",
    "        pass\n",
    "            \n",
    "        \n",
    "M1 = Model(\"M1\")"
   ]
  },
  {
   "cell_type": "markdown",
   "metadata": {},
   "source": [
    "### Creating the Graph"
   ]
  },
  {
   "cell_type": "markdown",
   "metadata": {},
   "source": [
    "#### Namespaces in Tensorflow"
   ]
  },
  {
   "cell_type": "code",
   "execution_count": 18,
   "metadata": {},
   "outputs": [
    {
     "data": {
      "text/plain": [
       "[<tf.Variable 'scope1/x:0' shape=() dtype=int32_ref>]"
      ]
     },
     "execution_count": 18,
     "metadata": {},
     "output_type": "execute_result"
    }
   ],
   "source": [
    "tf.reset_default_graph()\n",
    "x = tf.Variable(2, name='x')\n",
    "y = tf.Variable(3, name='y')\n",
    "z = x * y + x * x + 3\n",
    "show_graph(tf.get_default_graph())\n",
    "\n",
    "tf.reset_default_graph()\n",
    "with tf.variable_scope(\"scope1\"):\n",
    "    x = tf.Variable(2, name='x')\n",
    "    y = tf.Variable(3, name='y', trainable=False)\n",
    "    z = x * y + x * x + 3\n",
    "    \n",
    "# print(tf.global_variables())\n",
    "    \n",
    "with tf.variable_scope(\"scope2\"):\n",
    "    x = tf.Variable(4, name='x')\n",
    "    y = tf.Variable(5, name='y', trainable=False)\n",
    "    z = x * y + x * x + 3\n",
    "    \n",
    "# \n",
    "with tf.variable_scope(\"scope3\"):\n",
    "    x = tf.Variable(6, name='x')\n",
    "    y = tf.Variable(7, name='y', trainable=False)\n",
    "    z = x * y + x * x + 3\n",
    "\n",
    "# show_graph(tf.get_default_graph())\n",
    "\n",
    "# x\n",
    "# tf.global_variables()\n",
    "# tf.get_collection(tf.GraphKeys.GLOBAL_VARIABLES)\n",
    "# tf.get_collection(tf.GraphKeys.GLOBAL_VARIABLES, scope='scope1')\n",
    "tf.get_collection(tf.GraphKeys.TRAINABLE_VARIABLES, scope='scope1')\n"
   ]
  },
  {
   "cell_type": "code",
   "execution_count": 21,
   "metadata": {},
   "outputs": [
    {
     "data": {
      "text/plain": [
       "(<tf.Variable 'A/B/x:0' shape=() dtype=int32_ref>,\n",
       " <tf.Variable 'A/x:0' shape=() dtype=int32_ref>)"
      ]
     },
     "execution_count": 21,
     "metadata": {},
     "output_type": "execute_result"
    }
   ],
   "source": [
    "tf.reset_default_graph()\n",
    "with tf.variable_scope(\"A\"):\n",
    "    z = tf.Variable(2, name=\"x\")\n",
    "    with tf.variable_scope(\"B\"):\n",
    "        x = tf.Variable(2, name=\"x\")\n",
    "        \n",
    "x, z"
   ]
  },
  {
   "cell_type": "markdown",
   "metadata": {},
   "source": [
    "#### Reusing the same function"
   ]
  },
  {
   "cell_type": "code",
   "execution_count": null,
   "metadata": {
    "scrolled": false
   },
   "outputs": [],
   "source": [
    "tf.reset_default_graph()\n",
    "X1 = tf.placeholder(dtype=tf.float32, shape=[None, 128], name='X1')\n",
    "h1_X1 = tf.layers.dense(X1, 32, name='layer1_X1')\n",
    "h2_X1 = tf.layers.dense(h1_X1, 8, name='layer2_X1')\n",
    "\n",
    "X2 = tf.placeholder(dtype=tf.float32, shape=[None, 128], name='X2')\n",
    "h1_X2 = tf.layers.dense(X2, 32, name='layer1_X2')\n",
    "h2_X2 = tf.layers.dense(h1_X2, 8, name='layer2_X2')"
   ]
  },
  {
   "cell_type": "code",
   "execution_count": null,
   "metadata": {
    "scrolled": false
   },
   "outputs": [],
   "source": [
    "tf.reset_default_graph()\n",
    "X1 = tf.placeholder(dtype=tf.float32, shape=[None, 128], name='X1')\n",
    "X2 = tf.placeholder(dtype=tf.float32, shape=[None, 128], name='X2')\n",
    "\n",
    "def transform(x):\n",
    "    h1 = tf.layers.dense(x, 32, name='layer1')\n",
    "    h2 = tf.layers.dense(h1, 8, name='layer2')\n",
    "    return h2\n",
    "\n",
    "X1_transformed = transform(X1)\n",
    "X2_transformed = transform(X2)\n",
    "show_graph(tf.get_default_graph())"
   ]
  },
  {
   "cell_type": "code",
   "execution_count": 27,
   "metadata": {},
   "outputs": [
    {
     "data": {
      "text/html": [
       "\n",
       "        <iframe seamless style=\"width:800px;height:620px;border:0\" srcdoc=\"\n",
       "        <script>\n",
       "          function load() {\n",
       "            document.getElementById(&quot;graph0.07841732180013283&quot;).pbtxt = 'node {\\n  name: &quot;X1&quot;\\n  op: &quot;Placeholder&quot;\\n  attr {\\n    key: &quot;dtype&quot;\\n    value {\\n      type: DT_FLOAT\\n    }\\n  }\\n  attr {\\n    key: &quot;shape&quot;\\n    value {\\n      shape {\\n        dim {\\n          size: -1\\n        }\\n        dim {\\n          size: 128\\n        }\\n      }\\n    }\\n  }\\n}\\nnode {\\n  name: &quot;X2&quot;\\n  op: &quot;Placeholder&quot;\\n  attr {\\n    key: &quot;dtype&quot;\\n    value {\\n      type: DT_FLOAT\\n    }\\n  }\\n  attr {\\n    key: &quot;shape&quot;\\n    value {\\n      shape {\\n        dim {\\n          size: -1\\n        }\\n        dim {\\n          size: 128\\n        }\\n      }\\n    }\\n  }\\n}\\nnode {\\n  name: &quot;X3&quot;\\n  op: &quot;Placeholder&quot;\\n  attr {\\n    key: &quot;dtype&quot;\\n    value {\\n      type: DT_FLOAT\\n    }\\n  }\\n  attr {\\n    key: &quot;shape&quot;\\n    value {\\n      shape {\\n        dim {\\n          size: -1\\n        }\\n        dim {\\n          size: 128\\n        }\\n      }\\n    }\\n  }\\n}\\nnode {\\n  name: &quot;transform/layer1/kernel/Initializer/random_uniform/shape&quot;\\n  op: &quot;Const&quot;\\n  attr {\\n    key: &quot;_class&quot;\\n    value {\\n      list {\\n        s: &quot;loc:@transform/layer1/kernel&quot;\\n      }\\n    }\\n  }\\n  attr {\\n    key: &quot;dtype&quot;\\n    value {\\n      type: DT_INT32\\n    }\\n  }\\n  attr {\\n    key: &quot;value&quot;\\n    value {\\n      tensor {\\n        dtype: DT_INT32\\n        tensor_shape {\\n          dim {\\n            size: 2\\n          }\\n        }\\n        tensor_content: &quot;\\\\200\\\\000\\\\000\\\\000 \\\\000\\\\000\\\\000&quot;\\n      }\\n    }\\n  }\\n}\\nnode {\\n  name: &quot;transform/layer1/kernel/Initializer/random_uniform/min&quot;\\n  op: &quot;Const&quot;\\n  attr {\\n    key: &quot;_class&quot;\\n    value {\\n      list {\\n        s: &quot;loc:@transform/layer1/kernel&quot;\\n      }\\n    }\\n  }\\n  attr {\\n    key: &quot;dtype&quot;\\n    value {\\n      type: DT_FLOAT\\n    }\\n  }\\n  attr {\\n    key: &quot;value&quot;\\n    value {\\n      tensor {\\n        dtype: DT_FLOAT\\n        tensor_shape {\\n        }\\n        float_val: -0.19364917278289795\\n      }\\n    }\\n  }\\n}\\nnode {\\n  name: &quot;transform/layer1/kernel/Initializer/random_uniform/max&quot;\\n  op: &quot;Const&quot;\\n  attr {\\n    key: &quot;_class&quot;\\n    value {\\n      list {\\n        s: &quot;loc:@transform/layer1/kernel&quot;\\n      }\\n    }\\n  }\\n  attr {\\n    key: &quot;dtype&quot;\\n    value {\\n      type: DT_FLOAT\\n    }\\n  }\\n  attr {\\n    key: &quot;value&quot;\\n    value {\\n      tensor {\\n        dtype: DT_FLOAT\\n        tensor_shape {\\n        }\\n        float_val: 0.19364917278289795\\n      }\\n    }\\n  }\\n}\\nnode {\\n  name: &quot;transform/layer1/kernel/Initializer/random_uniform/RandomUniform&quot;\\n  op: &quot;RandomUniform&quot;\\n  input: &quot;transform/layer1/kernel/Initializer/random_uniform/shape&quot;\\n  attr {\\n    key: &quot;T&quot;\\n    value {\\n      type: DT_INT32\\n    }\\n  }\\n  attr {\\n    key: &quot;_class&quot;\\n    value {\\n      list {\\n        s: &quot;loc:@transform/layer1/kernel&quot;\\n      }\\n    }\\n  }\\n  attr {\\n    key: &quot;dtype&quot;\\n    value {\\n      type: DT_FLOAT\\n    }\\n  }\\n  attr {\\n    key: &quot;seed&quot;\\n    value {\\n      i: 0\\n    }\\n  }\\n  attr {\\n    key: &quot;seed2&quot;\\n    value {\\n      i: 0\\n    }\\n  }\\n}\\nnode {\\n  name: &quot;transform/layer1/kernel/Initializer/random_uniform/sub&quot;\\n  op: &quot;Sub&quot;\\n  input: &quot;transform/layer1/kernel/Initializer/random_uniform/max&quot;\\n  input: &quot;transform/layer1/kernel/Initializer/random_uniform/min&quot;\\n  attr {\\n    key: &quot;T&quot;\\n    value {\\n      type: DT_FLOAT\\n    }\\n  }\\n  attr {\\n    key: &quot;_class&quot;\\n    value {\\n      list {\\n        s: &quot;loc:@transform/layer1/kernel&quot;\\n      }\\n    }\\n  }\\n}\\nnode {\\n  name: &quot;transform/layer1/kernel/Initializer/random_uniform/mul&quot;\\n  op: &quot;Mul&quot;\\n  input: &quot;transform/layer1/kernel/Initializer/random_uniform/RandomUniform&quot;\\n  input: &quot;transform/layer1/kernel/Initializer/random_uniform/sub&quot;\\n  attr {\\n    key: &quot;T&quot;\\n    value {\\n      type: DT_FLOAT\\n    }\\n  }\\n  attr {\\n    key: &quot;_class&quot;\\n    value {\\n      list {\\n        s: &quot;loc:@transform/layer1/kernel&quot;\\n      }\\n    }\\n  }\\n}\\nnode {\\n  name: &quot;transform/layer1/kernel/Initializer/random_uniform&quot;\\n  op: &quot;Add&quot;\\n  input: &quot;transform/layer1/kernel/Initializer/random_uniform/mul&quot;\\n  input: &quot;transform/layer1/kernel/Initializer/random_uniform/min&quot;\\n  attr {\\n    key: &quot;T&quot;\\n    value {\\n      type: DT_FLOAT\\n    }\\n  }\\n  attr {\\n    key: &quot;_class&quot;\\n    value {\\n      list {\\n        s: &quot;loc:@transform/layer1/kernel&quot;\\n      }\\n    }\\n  }\\n}\\nnode {\\n  name: &quot;transform/layer1/kernel&quot;\\n  op: &quot;VariableV2&quot;\\n  attr {\\n    key: &quot;_class&quot;\\n    value {\\n      list {\\n        s: &quot;loc:@transform/layer1/kernel&quot;\\n      }\\n    }\\n  }\\n  attr {\\n    key: &quot;container&quot;\\n    value {\\n      s: &quot;&quot;\\n    }\\n  }\\n  attr {\\n    key: &quot;dtype&quot;\\n    value {\\n      type: DT_FLOAT\\n    }\\n  }\\n  attr {\\n    key: &quot;shape&quot;\\n    value {\\n      shape {\\n        dim {\\n          size: 128\\n        }\\n        dim {\\n          size: 32\\n        }\\n      }\\n    }\\n  }\\n  attr {\\n    key: &quot;shared_name&quot;\\n    value {\\n      s: &quot;&quot;\\n    }\\n  }\\n}\\nnode {\\n  name: &quot;transform/layer1/kernel/Assign&quot;\\n  op: &quot;Assign&quot;\\n  input: &quot;transform/layer1/kernel&quot;\\n  input: &quot;transform/layer1/kernel/Initializer/random_uniform&quot;\\n  attr {\\n    key: &quot;T&quot;\\n    value {\\n      type: DT_FLOAT\\n    }\\n  }\\n  attr {\\n    key: &quot;_class&quot;\\n    value {\\n      list {\\n        s: &quot;loc:@transform/layer1/kernel&quot;\\n      }\\n    }\\n  }\\n  attr {\\n    key: &quot;use_locking&quot;\\n    value {\\n      b: true\\n    }\\n  }\\n  attr {\\n    key: &quot;validate_shape&quot;\\n    value {\\n      b: true\\n    }\\n  }\\n}\\nnode {\\n  name: &quot;transform/layer1/kernel/read&quot;\\n  op: &quot;Identity&quot;\\n  input: &quot;transform/layer1/kernel&quot;\\n  attr {\\n    key: &quot;T&quot;\\n    value {\\n      type: DT_FLOAT\\n    }\\n  }\\n  attr {\\n    key: &quot;_class&quot;\\n    value {\\n      list {\\n        s: &quot;loc:@transform/layer1/kernel&quot;\\n      }\\n    }\\n  }\\n}\\nnode {\\n  name: &quot;transform/layer1/bias/Initializer/zeros&quot;\\n  op: &quot;Const&quot;\\n  attr {\\n    key: &quot;_class&quot;\\n    value {\\n      list {\\n        s: &quot;loc:@transform/layer1/bias&quot;\\n      }\\n    }\\n  }\\n  attr {\\n    key: &quot;dtype&quot;\\n    value {\\n      type: DT_FLOAT\\n    }\\n  }\\n  attr {\\n    key: &quot;value&quot;\\n    value {\\n      tensor {\\n        dtype: DT_FLOAT\\n        tensor_shape {\\n          dim {\\n            size: 32\\n          }\\n        }\\n        float_val: 0.0\\n      }\\n    }\\n  }\\n}\\nnode {\\n  name: &quot;transform/layer1/bias&quot;\\n  op: &quot;VariableV2&quot;\\n  attr {\\n    key: &quot;_class&quot;\\n    value {\\n      list {\\n        s: &quot;loc:@transform/layer1/bias&quot;\\n      }\\n    }\\n  }\\n  attr {\\n    key: &quot;container&quot;\\n    value {\\n      s: &quot;&quot;\\n    }\\n  }\\n  attr {\\n    key: &quot;dtype&quot;\\n    value {\\n      type: DT_FLOAT\\n    }\\n  }\\n  attr {\\n    key: &quot;shape&quot;\\n    value {\\n      shape {\\n        dim {\\n          size: 32\\n        }\\n      }\\n    }\\n  }\\n  attr {\\n    key: &quot;shared_name&quot;\\n    value {\\n      s: &quot;&quot;\\n    }\\n  }\\n}\\nnode {\\n  name: &quot;transform/layer1/bias/Assign&quot;\\n  op: &quot;Assign&quot;\\n  input: &quot;transform/layer1/bias&quot;\\n  input: &quot;transform/layer1/bias/Initializer/zeros&quot;\\n  attr {\\n    key: &quot;T&quot;\\n    value {\\n      type: DT_FLOAT\\n    }\\n  }\\n  attr {\\n    key: &quot;_class&quot;\\n    value {\\n      list {\\n        s: &quot;loc:@transform/layer1/bias&quot;\\n      }\\n    }\\n  }\\n  attr {\\n    key: &quot;use_locking&quot;\\n    value {\\n      b: true\\n    }\\n  }\\n  attr {\\n    key: &quot;validate_shape&quot;\\n    value {\\n      b: true\\n    }\\n  }\\n}\\nnode {\\n  name: &quot;transform/layer1/bias/read&quot;\\n  op: &quot;Identity&quot;\\n  input: &quot;transform/layer1/bias&quot;\\n  attr {\\n    key: &quot;T&quot;\\n    value {\\n      type: DT_FLOAT\\n    }\\n  }\\n  attr {\\n    key: &quot;_class&quot;\\n    value {\\n      list {\\n        s: &quot;loc:@transform/layer1/bias&quot;\\n      }\\n    }\\n  }\\n}\\nnode {\\n  name: &quot;transform/layer1/MatMul&quot;\\n  op: &quot;MatMul&quot;\\n  input: &quot;X1&quot;\\n  input: &quot;transform/layer1/kernel/read&quot;\\n  attr {\\n    key: &quot;T&quot;\\n    value {\\n      type: DT_FLOAT\\n    }\\n  }\\n  attr {\\n    key: &quot;transpose_a&quot;\\n    value {\\n      b: false\\n    }\\n  }\\n  attr {\\n    key: &quot;transpose_b&quot;\\n    value {\\n      b: false\\n    }\\n  }\\n}\\nnode {\\n  name: &quot;transform/layer1/BiasAdd&quot;\\n  op: &quot;BiasAdd&quot;\\n  input: &quot;transform/layer1/MatMul&quot;\\n  input: &quot;transform/layer1/bias/read&quot;\\n  attr {\\n    key: &quot;T&quot;\\n    value {\\n      type: DT_FLOAT\\n    }\\n  }\\n  attr {\\n    key: &quot;data_format&quot;\\n    value {\\n      s: &quot;NHWC&quot;\\n    }\\n  }\\n}\\nnode {\\n  name: &quot;transform/layer2/kernel/Initializer/random_uniform/shape&quot;\\n  op: &quot;Const&quot;\\n  attr {\\n    key: &quot;_class&quot;\\n    value {\\n      list {\\n        s: &quot;loc:@transform/layer2/kernel&quot;\\n      }\\n    }\\n  }\\n  attr {\\n    key: &quot;dtype&quot;\\n    value {\\n      type: DT_INT32\\n    }\\n  }\\n  attr {\\n    key: &quot;value&quot;\\n    value {\\n      tensor {\\n        dtype: DT_INT32\\n        tensor_shape {\\n          dim {\\n            size: 2\\n          }\\n        }\\n        tensor_content: &quot; \\\\000\\\\000\\\\000\\\\010\\\\000\\\\000\\\\000&quot;\\n      }\\n    }\\n  }\\n}\\nnode {\\n  name: &quot;transform/layer2/kernel/Initializer/random_uniform/min&quot;\\n  op: &quot;Const&quot;\\n  attr {\\n    key: &quot;_class&quot;\\n    value {\\n      list {\\n        s: &quot;loc:@transform/layer2/kernel&quot;\\n      }\\n    }\\n  }\\n  attr {\\n    key: &quot;dtype&quot;\\n    value {\\n      type: DT_FLOAT\\n    }\\n  }\\n  attr {\\n    key: &quot;value&quot;\\n    value {\\n      tensor {\\n        dtype: DT_FLOAT\\n        tensor_shape {\\n        }\\n        float_val: -0.3872983455657959\\n      }\\n    }\\n  }\\n}\\nnode {\\n  name: &quot;transform/layer2/kernel/Initializer/random_uniform/max&quot;\\n  op: &quot;Const&quot;\\n  attr {\\n    key: &quot;_class&quot;\\n    value {\\n      list {\\n        s: &quot;loc:@transform/layer2/kernel&quot;\\n      }\\n    }\\n  }\\n  attr {\\n    key: &quot;dtype&quot;\\n    value {\\n      type: DT_FLOAT\\n    }\\n  }\\n  attr {\\n    key: &quot;value&quot;\\n    value {\\n      tensor {\\n        dtype: DT_FLOAT\\n        tensor_shape {\\n        }\\n        float_val: 0.3872983455657959\\n      }\\n    }\\n  }\\n}\\nnode {\\n  name: &quot;transform/layer2/kernel/Initializer/random_uniform/RandomUniform&quot;\\n  op: &quot;RandomUniform&quot;\\n  input: &quot;transform/layer2/kernel/Initializer/random_uniform/shape&quot;\\n  attr {\\n    key: &quot;T&quot;\\n    value {\\n      type: DT_INT32\\n    }\\n  }\\n  attr {\\n    key: &quot;_class&quot;\\n    value {\\n      list {\\n        s: &quot;loc:@transform/layer2/kernel&quot;\\n      }\\n    }\\n  }\\n  attr {\\n    key: &quot;dtype&quot;\\n    value {\\n      type: DT_FLOAT\\n    }\\n  }\\n  attr {\\n    key: &quot;seed&quot;\\n    value {\\n      i: 0\\n    }\\n  }\\n  attr {\\n    key: &quot;seed2&quot;\\n    value {\\n      i: 0\\n    }\\n  }\\n}\\nnode {\\n  name: &quot;transform/layer2/kernel/Initializer/random_uniform/sub&quot;\\n  op: &quot;Sub&quot;\\n  input: &quot;transform/layer2/kernel/Initializer/random_uniform/max&quot;\\n  input: &quot;transform/layer2/kernel/Initializer/random_uniform/min&quot;\\n  attr {\\n    key: &quot;T&quot;\\n    value {\\n      type: DT_FLOAT\\n    }\\n  }\\n  attr {\\n    key: &quot;_class&quot;\\n    value {\\n      list {\\n        s: &quot;loc:@transform/layer2/kernel&quot;\\n      }\\n    }\\n  }\\n}\\nnode {\\n  name: &quot;transform/layer2/kernel/Initializer/random_uniform/mul&quot;\\n  op: &quot;Mul&quot;\\n  input: &quot;transform/layer2/kernel/Initializer/random_uniform/RandomUniform&quot;\\n  input: &quot;transform/layer2/kernel/Initializer/random_uniform/sub&quot;\\n  attr {\\n    key: &quot;T&quot;\\n    value {\\n      type: DT_FLOAT\\n    }\\n  }\\n  attr {\\n    key: &quot;_class&quot;\\n    value {\\n      list {\\n        s: &quot;loc:@transform/layer2/kernel&quot;\\n      }\\n    }\\n  }\\n}\\nnode {\\n  name: &quot;transform/layer2/kernel/Initializer/random_uniform&quot;\\n  op: &quot;Add&quot;\\n  input: &quot;transform/layer2/kernel/Initializer/random_uniform/mul&quot;\\n  input: &quot;transform/layer2/kernel/Initializer/random_uniform/min&quot;\\n  attr {\\n    key: &quot;T&quot;\\n    value {\\n      type: DT_FLOAT\\n    }\\n  }\\n  attr {\\n    key: &quot;_class&quot;\\n    value {\\n      list {\\n        s: &quot;loc:@transform/layer2/kernel&quot;\\n      }\\n    }\\n  }\\n}\\nnode {\\n  name: &quot;transform/layer2/kernel&quot;\\n  op: &quot;VariableV2&quot;\\n  attr {\\n    key: &quot;_class&quot;\\n    value {\\n      list {\\n        s: &quot;loc:@transform/layer2/kernel&quot;\\n      }\\n    }\\n  }\\n  attr {\\n    key: &quot;container&quot;\\n    value {\\n      s: &quot;&quot;\\n    }\\n  }\\n  attr {\\n    key: &quot;dtype&quot;\\n    value {\\n      type: DT_FLOAT\\n    }\\n  }\\n  attr {\\n    key: &quot;shape&quot;\\n    value {\\n      shape {\\n        dim {\\n          size: 32\\n        }\\n        dim {\\n          size: 8\\n        }\\n      }\\n    }\\n  }\\n  attr {\\n    key: &quot;shared_name&quot;\\n    value {\\n      s: &quot;&quot;\\n    }\\n  }\\n}\\nnode {\\n  name: &quot;transform/layer2/kernel/Assign&quot;\\n  op: &quot;Assign&quot;\\n  input: &quot;transform/layer2/kernel&quot;\\n  input: &quot;transform/layer2/kernel/Initializer/random_uniform&quot;\\n  attr {\\n    key: &quot;T&quot;\\n    value {\\n      type: DT_FLOAT\\n    }\\n  }\\n  attr {\\n    key: &quot;_class&quot;\\n    value {\\n      list {\\n        s: &quot;loc:@transform/layer2/kernel&quot;\\n      }\\n    }\\n  }\\n  attr {\\n    key: &quot;use_locking&quot;\\n    value {\\n      b: true\\n    }\\n  }\\n  attr {\\n    key: &quot;validate_shape&quot;\\n    value {\\n      b: true\\n    }\\n  }\\n}\\nnode {\\n  name: &quot;transform/layer2/kernel/read&quot;\\n  op: &quot;Identity&quot;\\n  input: &quot;transform/layer2/kernel&quot;\\n  attr {\\n    key: &quot;T&quot;\\n    value {\\n      type: DT_FLOAT\\n    }\\n  }\\n  attr {\\n    key: &quot;_class&quot;\\n    value {\\n      list {\\n        s: &quot;loc:@transform/layer2/kernel&quot;\\n      }\\n    }\\n  }\\n}\\nnode {\\n  name: &quot;transform/layer2/bias/Initializer/zeros&quot;\\n  op: &quot;Const&quot;\\n  attr {\\n    key: &quot;_class&quot;\\n    value {\\n      list {\\n        s: &quot;loc:@transform/layer2/bias&quot;\\n      }\\n    }\\n  }\\n  attr {\\n    key: &quot;dtype&quot;\\n    value {\\n      type: DT_FLOAT\\n    }\\n  }\\n  attr {\\n    key: &quot;value&quot;\\n    value {\\n      tensor {\\n        dtype: DT_FLOAT\\n        tensor_shape {\\n          dim {\\n            size: 8\\n          }\\n        }\\n        float_val: 0.0\\n      }\\n    }\\n  }\\n}\\nnode {\\n  name: &quot;transform/layer2/bias&quot;\\n  op: &quot;VariableV2&quot;\\n  attr {\\n    key: &quot;_class&quot;\\n    value {\\n      list {\\n        s: &quot;loc:@transform/layer2/bias&quot;\\n      }\\n    }\\n  }\\n  attr {\\n    key: &quot;container&quot;\\n    value {\\n      s: &quot;&quot;\\n    }\\n  }\\n  attr {\\n    key: &quot;dtype&quot;\\n    value {\\n      type: DT_FLOAT\\n    }\\n  }\\n  attr {\\n    key: &quot;shape&quot;\\n    value {\\n      shape {\\n        dim {\\n          size: 8\\n        }\\n      }\\n    }\\n  }\\n  attr {\\n    key: &quot;shared_name&quot;\\n    value {\\n      s: &quot;&quot;\\n    }\\n  }\\n}\\nnode {\\n  name: &quot;transform/layer2/bias/Assign&quot;\\n  op: &quot;Assign&quot;\\n  input: &quot;transform/layer2/bias&quot;\\n  input: &quot;transform/layer2/bias/Initializer/zeros&quot;\\n  attr {\\n    key: &quot;T&quot;\\n    value {\\n      type: DT_FLOAT\\n    }\\n  }\\n  attr {\\n    key: &quot;_class&quot;\\n    value {\\n      list {\\n        s: &quot;loc:@transform/layer2/bias&quot;\\n      }\\n    }\\n  }\\n  attr {\\n    key: &quot;use_locking&quot;\\n    value {\\n      b: true\\n    }\\n  }\\n  attr {\\n    key: &quot;validate_shape&quot;\\n    value {\\n      b: true\\n    }\\n  }\\n}\\nnode {\\n  name: &quot;transform/layer2/bias/read&quot;\\n  op: &quot;Identity&quot;\\n  input: &quot;transform/layer2/bias&quot;\\n  attr {\\n    key: &quot;T&quot;\\n    value {\\n      type: DT_FLOAT\\n    }\\n  }\\n  attr {\\n    key: &quot;_class&quot;\\n    value {\\n      list {\\n        s: &quot;loc:@transform/layer2/bias&quot;\\n      }\\n    }\\n  }\\n}\\nnode {\\n  name: &quot;transform/layer2/MatMul&quot;\\n  op: &quot;MatMul&quot;\\n  input: &quot;transform/layer1/BiasAdd&quot;\\n  input: &quot;transform/layer2/kernel/read&quot;\\n  attr {\\n    key: &quot;T&quot;\\n    value {\\n      type: DT_FLOAT\\n    }\\n  }\\n  attr {\\n    key: &quot;transpose_a&quot;\\n    value {\\n      b: false\\n    }\\n  }\\n  attr {\\n    key: &quot;transpose_b&quot;\\n    value {\\n      b: false\\n    }\\n  }\\n}\\nnode {\\n  name: &quot;transform/layer2/BiasAdd&quot;\\n  op: &quot;BiasAdd&quot;\\n  input: &quot;transform/layer2/MatMul&quot;\\n  input: &quot;transform/layer2/bias/read&quot;\\n  attr {\\n    key: &quot;T&quot;\\n    value {\\n      type: DT_FLOAT\\n    }\\n  }\\n  attr {\\n    key: &quot;data_format&quot;\\n    value {\\n      s: &quot;NHWC&quot;\\n    }\\n  }\\n}\\nnode {\\n  name: &quot;transform_1/layer1/MatMul&quot;\\n  op: &quot;MatMul&quot;\\n  input: &quot;X2&quot;\\n  input: &quot;transform/layer1/kernel/read&quot;\\n  attr {\\n    key: &quot;T&quot;\\n    value {\\n      type: DT_FLOAT\\n    }\\n  }\\n  attr {\\n    key: &quot;transpose_a&quot;\\n    value {\\n      b: false\\n    }\\n  }\\n  attr {\\n    key: &quot;transpose_b&quot;\\n    value {\\n      b: false\\n    }\\n  }\\n}\\nnode {\\n  name: &quot;transform_1/layer1/BiasAdd&quot;\\n  op: &quot;BiasAdd&quot;\\n  input: &quot;transform_1/layer1/MatMul&quot;\\n  input: &quot;transform/layer1/bias/read&quot;\\n  attr {\\n    key: &quot;T&quot;\\n    value {\\n      type: DT_FLOAT\\n    }\\n  }\\n  attr {\\n    key: &quot;data_format&quot;\\n    value {\\n      s: &quot;NHWC&quot;\\n    }\\n  }\\n}\\nnode {\\n  name: &quot;transform_1/layer2/MatMul&quot;\\n  op: &quot;MatMul&quot;\\n  input: &quot;transform_1/layer1/BiasAdd&quot;\\n  input: &quot;transform/layer2/kernel/read&quot;\\n  attr {\\n    key: &quot;T&quot;\\n    value {\\n      type: DT_FLOAT\\n    }\\n  }\\n  attr {\\n    key: &quot;transpose_a&quot;\\n    value {\\n      b: false\\n    }\\n  }\\n  attr {\\n    key: &quot;transpose_b&quot;\\n    value {\\n      b: false\\n    }\\n  }\\n}\\nnode {\\n  name: &quot;transform_1/layer2/BiasAdd&quot;\\n  op: &quot;BiasAdd&quot;\\n  input: &quot;transform_1/layer2/MatMul&quot;\\n  input: &quot;transform/layer2/bias/read&quot;\\n  attr {\\n    key: &quot;T&quot;\\n    value {\\n      type: DT_FLOAT\\n    }\\n  }\\n  attr {\\n    key: &quot;data_format&quot;\\n    value {\\n      s: &quot;NHWC&quot;\\n    }\\n  }\\n}\\nnode {\\n  name: &quot;transform_2/layer1/MatMul&quot;\\n  op: &quot;MatMul&quot;\\n  input: &quot;X3&quot;\\n  input: &quot;transform/layer1/kernel/read&quot;\\n  attr {\\n    key: &quot;T&quot;\\n    value {\\n      type: DT_FLOAT\\n    }\\n  }\\n  attr {\\n    key: &quot;transpose_a&quot;\\n    value {\\n      b: false\\n    }\\n  }\\n  attr {\\n    key: &quot;transpose_b&quot;\\n    value {\\n      b: false\\n    }\\n  }\\n}\\nnode {\\n  name: &quot;transform_2/layer1/BiasAdd&quot;\\n  op: &quot;BiasAdd&quot;\\n  input: &quot;transform_2/layer1/MatMul&quot;\\n  input: &quot;transform/layer1/bias/read&quot;\\n  attr {\\n    key: &quot;T&quot;\\n    value {\\n      type: DT_FLOAT\\n    }\\n  }\\n  attr {\\n    key: &quot;data_format&quot;\\n    value {\\n      s: &quot;NHWC&quot;\\n    }\\n  }\\n}\\nnode {\\n  name: &quot;transform_2/layer2/MatMul&quot;\\n  op: &quot;MatMul&quot;\\n  input: &quot;transform_2/layer1/BiasAdd&quot;\\n  input: &quot;transform/layer2/kernel/read&quot;\\n  attr {\\n    key: &quot;T&quot;\\n    value {\\n      type: DT_FLOAT\\n    }\\n  }\\n  attr {\\n    key: &quot;transpose_a&quot;\\n    value {\\n      b: false\\n    }\\n  }\\n  attr {\\n    key: &quot;transpose_b&quot;\\n    value {\\n      b: false\\n    }\\n  }\\n}\\nnode {\\n  name: &quot;transform_2/layer2/BiasAdd&quot;\\n  op: &quot;BiasAdd&quot;\\n  input: &quot;transform_2/layer2/MatMul&quot;\\n  input: &quot;transform/layer2/bias/read&quot;\\n  attr {\\n    key: &quot;T&quot;\\n    value {\\n      type: DT_FLOAT\\n    }\\n  }\\n  attr {\\n    key: &quot;data_format&quot;\\n    value {\\n      s: &quot;NHWC&quot;\\n    }\\n  }\\n}\\n';\n",
       "          }\n",
       "        </script>\n",
       "        <link rel=&quot;import&quot; href=&quot;https://tensorboard.appspot.com/tf-graph-basic.build.html&quot; onload=load()>\n",
       "        <div style=&quot;height:600px&quot;>\n",
       "          <tf-graph-basic id=&quot;graph0.07841732180013283&quot;></tf-graph-basic>\n",
       "        </div>\n",
       "    \"></iframe>\n",
       "    "
      ],
      "text/plain": [
       "<IPython.core.display.HTML object>"
      ]
     },
     "metadata": {},
     "output_type": "display_data"
    }
   ],
   "source": [
    "tf.reset_default_graph()\n",
    "X1 = tf.placeholder(dtype=tf.float32, shape=[None, 128], name='X1')\n",
    "X2 = tf.placeholder(dtype=tf.float32, shape=[None, 128], name='X2')\n",
    "X3 = tf.placeholder(dtype=tf.float32, shape=[None, 128], name='X3')\n",
    "\n",
    "\n",
    "def transform(x):\n",
    "    with tf.variable_scope(\"transform\", reuse=tf.AUTO_REUSE):\n",
    "        h1 = tf.layers.dense(x, 32, name='layer1')\n",
    "        h2 = tf.layers.dense(h1, 8, name='layer2')\n",
    "    return h2\n",
    "\n",
    "X1_transformed = transform(X1)\n",
    "X2_transformed = transform(X2)\n",
    "X3_transformed = transform(X3)\n",
    "\n",
    "# tf.trainable_variables()\n",
    "show_graph(tf.get_default_graph())"
   ]
  },
  {
   "cell_type": "code",
   "execution_count": null,
   "metadata": {},
   "outputs": [],
   "source": [
    "import os\n",
    "import datetime\n",
    "\n",
    "class Model():\n",
    "    def __init__(self, name='Model', dataloader=None):\n",
    "        self.name = name\n",
    "        self.dataloader = dataloader\n",
    "        \n",
    "        self.save_path = os.path.join(\"SavedModels/\", self.name)\n",
    "        try:\n",
    "            os.mkdir(self.save_path)\n",
    "        except:\n",
    "            pass\n",
    "        \n",
    "        init_time = datetime.datetime.utcnow().strftime(\"%Y%m%d%H%M%S\")\n",
    "        self.log_path = os.path.join(\"log/\" + self.name + \"-run-\" + init_time)\n",
    "        \n",
    "        self.create_graph()\n",
    "        self.ses = tf.Session()\n",
    "        \n",
    "    \n",
    "    def create_graph(self):\n",
    "        tf.reset_default_graph()\n",
    "        tf.set_random_seed(42)\n",
    "        with tf.variable_scope(self.name):\n",
    "            with tf.variable_scope(\"Placeholders\"):\n",
    "                self.x_placeholder = tf.placeholder(dtype=tf.float32, shape=[None, 8]) # dataloader must provide the shape\n",
    "                self.y_placeholder = tf.placeholder(dtype=tf.float32, shape=[None, 1])\n",
    "            \n",
    "            with tf.variable_scope(\"Inference\"):\n",
    "                h1 = tf.layers.dense(inputs=self.x_placeholder, units=16, activation=tf.nn.sigmoid, name='layer1')\n",
    "                h2 = tf.layers.dense(inputs=h1, units=8, activation=tf.nn.sigmoid, name='layer2')\n",
    "                self.y_hat = tf.layers.dense(inputs=h2, units=1, name='y_hat')\n",
    "                \n",
    "            with tf.variable_scope(\"Optimization\"):\n",
    "                self.loss = tf.losses.mean_squared_error(labels=self.y_placeholder, predictions=self.y_hat)\n",
    "                self.global_step = tf.train.get_or_create_global_step()\n",
    "                learning_rate = tf.train.exponential_decay(learning_rate=1e-4,\n",
    "                                                           decay_steps=10000,\n",
    "                                                           decay_rate=0.5,\n",
    "                                                           global_step=self.global_step,\n",
    "                                                           name='learning_rate')\n",
    "                optimizer = tf.train.GradientDescentOptimizer(learning_rate)\n",
    "                self.train_operation = optimizer.minimize(self.loss, global_step=self.global_step)\n",
    "                \n",
    "                \n",
    "    def train(self):\n",
    "        pass\n",
    "    \n",
    "    def save(self):\n",
    "        pass\n",
    "    \n",
    "    def load(self):\n",
    "        pass\n",
    "            \n",
    "\n",
    "dataloader = DataLoader(batch_size=16)\n",
    "M1 = Model(name=\"M1\", dataloader=dataloader)\n",
    "# show_graph(tf.get_default_graph())"
   ]
  },
  {
   "cell_type": "markdown",
   "metadata": {},
   "source": [
    "### Train, Save, Load"
   ]
  },
  {
   "cell_type": "code",
   "execution_count": 28,
   "metadata": {},
   "outputs": [
    {
     "name": "stdout",
     "output_type": "stream",
     "text": [
      "Step =  0\n",
      "\tTrain loss =  1.4474123\n",
      "\tValidation loss =  1.9790204\n",
      "Step =  1000\n",
      "\tTrain loss =  1.0408561\n",
      "\tValidation loss =  1.4456122\n",
      "Step =  2000\n",
      "\tTrain loss =  0.01940269\n",
      "\tValidation loss =  0.27312785\n",
      "Step =  3000\n",
      "\tTrain loss =  1.5633396\n",
      "\tValidation loss =  1.369827\n",
      "Step =  4000\n",
      "\tTrain loss =  0.77247214\n",
      "\tValidation loss =  0.24396871\n"
     ]
    }
   ],
   "source": [
    "import os\n",
    "import datetime\n",
    "\n",
    "class Model():\n",
    "    def __init__(self, name='Model', dataloader=None):\n",
    "        self.name = name\n",
    "        self.dataloader = dataloader\n",
    "        \n",
    "        self.save_path = os.path.join(\"SavedModels/\", self.name)\n",
    "        try:\n",
    "            os.mkdir(self.save_path)\n",
    "        except:\n",
    "            pass\n",
    "        \n",
    "        init_time = datetime.datetime.utcnow().strftime(\"%Y%m%d%H%M%S\")\n",
    "        self.log_path = os.path.join(\"log/\" + self.name + \"-run-\" + init_time)\n",
    "        \n",
    "        self.create_graph()\n",
    "        self.ses = tf.Session()\n",
    "        \n",
    "    \n",
    "    def create_graph(self):\n",
    "        tf.reset_default_graph()\n",
    "        tf.set_random_seed(42)\n",
    "        with tf.variable_scope(self.name):\n",
    "            with tf.variable_scope(\"Placeholders\"):\n",
    "                self.x_placeholder = tf.placeholder(dtype=tf.float32, shape=[None, 8]) # dataloader must provide the shape\n",
    "                self.y_placeholder = tf.placeholder(dtype=tf.float32, shape=[None, 1])\n",
    "            \n",
    "            with tf.variable_scope(\"Inference\"):\n",
    "                h1 = tf.layers.dense(inputs=self.x_placeholder, units=16, activation=tf.nn.sigmoid, name='layer1')\n",
    "                h2 = tf.layers.dense(inputs=h1, units=8, activation=tf.nn.sigmoid, name='layer2')\n",
    "                self.y_hat = tf.layers.dense(inputs=h2, units=1, name='y_hat')\n",
    "                \n",
    "            with tf.variable_scope(\"Optimization\"):\n",
    "                self.loss = tf.losses.mean_squared_error(labels=self.y_placeholder, predictions=self.y_hat)\n",
    "                self.global_step = tf.train.get_or_create_global_step()\n",
    "                learning_rate = tf.train.exponential_decay(learning_rate=1e-4, # 1e-3\n",
    "                                                           decay_steps=1000,\n",
    "                                                           decay_rate=0.5,\n",
    "                                                           global_step=self.global_step,\n",
    "                                                           name='learning_rate')\n",
    "                optimizer = tf.train.GradientDescentOptimizer(learning_rate)\n",
    "                self.train_operation = optimizer.minimize(self.loss, global_step=self.global_step)\n",
    "                \n",
    "            with tf.variable_scope(\"Init_save\"):\n",
    "                self.variable_initializer = tf.global_variables_initializer()\n",
    "                self.saver = tf.train.Saver()\n",
    "                \n",
    "                \n",
    "    def train(self, init=True, steps=10000):\n",
    "        if init:\n",
    "            self.ses.run(self.variable_initializer)\n",
    "        step = 0\n",
    "        while step < steps:\n",
    "            x_train, y_train = self.dataloader.get_train_batch()\n",
    "            x_val, y_val = self.dataloader.get_val_batch()\n",
    "            val_loss = self.ses.run(self.loss, feed_dict={self.x_placeholder: x_val, self.y_placeholder: y_val})\n",
    "            train_loss, step, _ = self.ses.run([self.loss, self.global_step, self.train_operation],\n",
    "                                               feed_dict={self.x_placeholder: x_train, self.y_placeholder: y_train})\n",
    "            if step % 1000 == 0:\n",
    "                print(\"Step = \", step)\n",
    "                print(\"\\tTrain loss = \", train_loss)\n",
    "                print(\"\\tValidation loss = \", val_loss)\n",
    "    \n",
    "    def save(self):\n",
    "        self.saver.save(self.ses, save_path=self.save_path + \"/\" + self.name + '.ckpt')\n",
    "    \n",
    "    def load(self):\n",
    "        self.saver.restore(self.ses, save_path=self.save_path + \"/\" + self.name + '.ckpt')\n",
    "\n",
    "            \n",
    "\n",
    "dataloader = DataLoader(batch_size=16)\n",
    "M1 = Model(name=\"M1\", dataloader=dataloader)\n",
    "# show_graph(tf.get_default_graph())\n",
    "M1.train(init=True, steps=4000)\n",
    "M1.save()\n",
    "# M1.load()\n"
   ]
  },
  {
   "cell_type": "markdown",
   "metadata": {},
   "source": [
    "### Adding Summaries"
   ]
  },
  {
   "cell_type": "code",
   "execution_count": 29,
   "metadata": {},
   "outputs": [],
   "source": [
    "import os\n",
    "import datetime\n",
    "\n",
    "class Model():\n",
    "    def __init__(self, name='Model', dataloader=None):\n",
    "        self.name = name\n",
    "        self.dataloader = dataloader\n",
    "        \n",
    "        self.save_path = os.path.join(\"SavedModels/\", self.name)\n",
    "        try:\n",
    "            os.mkdir(self.save_path)\n",
    "        except:\n",
    "            pass\n",
    "        \n",
    "        init_time = datetime.datetime.utcnow().strftime(\"%Y%m%d%H%M%S\")\n",
    "        self.log_path = os.path.join(\"log/\" + self.name + \"-run-\" + init_time)\n",
    "        \n",
    "        self.create_graph()\n",
    "        self.ses = tf.Session()\n",
    "        \n",
    "    \n",
    "    def create_graph(self):\n",
    "        tf.reset_default_graph()\n",
    "        tf.set_random_seed(42)\n",
    "        with tf.variable_scope(self.name):\n",
    "            with tf.variable_scope(\"Placeholders\"):\n",
    "                self.x_placeholder = tf.placeholder(dtype=tf.float32, shape=[None, 8]) # dataloader must provide the shape\n",
    "                self.y_placeholder = tf.placeholder(dtype=tf.float32, shape=[None, 1])\n",
    "            \n",
    "            with tf.variable_scope(\"Inference\"):\n",
    "                h1 = tf.layers.dense(inputs=self.x_placeholder, units=16, activation=tf.nn.sigmoid, name='layer1')\n",
    "                h2 = tf.layers.dense(inputs=h1, units=8, activation=tf.nn.sigmoid, name='layer2')\n",
    "                self.y_hat = tf.layers.dense(inputs=h2, units=1, name='y_hat')\n",
    "                \n",
    "            with tf.variable_scope(\"Optimization\"):\n",
    "                self.loss = tf.losses.mean_squared_error(labels=self.y_placeholder, predictions=self.y_hat)\n",
    "                self.global_step = tf.train.get_or_create_global_step()\n",
    "                learning_rate = tf.train.exponential_decay(learning_rate=1e-4, # 1e-3\n",
    "                                                           decay_steps=1000,\n",
    "                                                           decay_rate=0.5,\n",
    "                                                           global_step=self.global_step,\n",
    "                                                           name='learning_rate')\n",
    "                optimizer = tf.train.GradientDescentOptimizer(learning_rate)\n",
    "                self.train_operation = optimizer.minimize(self.loss, global_step=self.global_step)\n",
    "                \n",
    "            with tf.variable_scope(\"Init_save\"):\n",
    "                self.variable_initializer = tf.global_variables_initializer()\n",
    "                self.saver = tf.train.Saver()\n",
    "                \n",
    "            with tf.variable_scope(\"Summary\"):\n",
    "                self.train_summary_writer = tf.summary.FileWriter(self.log_path + \"train\", tf.get_default_graph())\n",
    "                self.validation_summary_writer = tf.summary.FileWriter(self.log_path + \"validation\")\n",
    "                self.loss_summary = tf.summary.scalar(name=\"Mean_Squared_Loss\", tensor=self.loss)\n",
    "                \n",
    "                \n",
    "    def train(self, init=True, steps=10000):\n",
    "        if init:\n",
    "            self.ses.run(self.variable_initializer)\n",
    "        step = 0\n",
    "        while step < steps:\n",
    "            x_train, y_train = self.dataloader.get_train_batch()\n",
    "            x_val, y_val = self.dataloader.get_val_batch()\n",
    "            val_loss_summary = self.ses.run(self.loss_summary, feed_dict={self.x_placeholder: x_val, self.y_placeholder: y_val})\n",
    "            train_loss_summary, step, _ = self.ses.run([self.loss_summary, self.global_step, self.train_operation],\n",
    "                                               feed_dict={self.x_placeholder: x_train, self.y_placeholder: y_train})\n",
    "            self.train_summary_writer.add_summary(train_loss_summary, step)\n",
    "            self.validation_summary_writer.add_summary(val_loss_summary, step)\n",
    "            if step % 1000 == 0:\n",
    "                print(\"Step = \", step)\n",
    "                \n",
    "        self.train_summary_writer.close()\n",
    "        self.validation_summary_writer.close()\n",
    "                \n",
    "    \n",
    "    def save(self):\n",
    "        self.saver.save(self.ses, save_path=self.save_path + \"/\" + self.name + '.ckpt')\n",
    "    \n",
    "    def load(self):\n",
    "        self.saver.restore(self.ses, save_path=self.save_path + \"/\" + self.name + '.ckpt')\n",
    "\n",
    "            "
   ]
  },
  {
   "cell_type": "markdown",
   "metadata": {},
   "source": [
    "## Running Final Model"
   ]
  },
  {
   "cell_type": "code",
   "execution_count": 30,
   "metadata": {},
   "outputs": [
    {
     "name": "stdout",
     "output_type": "stream",
     "text": [
      "Step =  0\n",
      "Step =  1000\n",
      "Step =  2000\n",
      "Step =  3000\n",
      "Step =  4000\n"
     ]
    }
   ],
   "source": [
    "dataloader = DataLoader(batch_size=64)\n",
    "M1 = Model(name=\"M1\", dataloader=dataloader)\n",
    "# show_graph(tf.get_default_graph())\n",
    "M1.train(init=True, steps=4000)\n",
    "M1.save()\n",
    "# M1.load()"
   ]
  }
 ],
 "metadata": {
  "kernelspec": {
   "display_name": "Python 3",
   "language": "python",
   "name": "python3"
  },
  "language_info": {
   "codemirror_mode": {
    "name": "ipython",
    "version": 3
   },
   "file_extension": ".py",
   "mimetype": "text/x-python",
   "name": "python",
   "nbconvert_exporter": "python",
   "pygments_lexer": "ipython3",
   "version": "3.5.4"
  }
 },
 "nbformat": 4,
 "nbformat_minor": 2
}
